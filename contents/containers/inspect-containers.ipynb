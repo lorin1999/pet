{
 "cells": [
  {
   "cell_type": "code",
   "execution_count": 7,
   "metadata": {
    "collapsed": true
   },
   "outputs": [
    {
     "name": "stdout",
     "output_type": "stream",
     "text": [
      "<type 'int'>: container: False; sequence: False; hashable: True\n<type 'long'>: container: False; sequence: False; hashable: True\n<type 'float'>: container: False; sequence: False; hashable: True\n<type 'complex'>: container: False; sequence: False; hashable: True\n<type 'str'>: container: True; sequence: True; hashable: True\n<type 'NoneType'>: container: False; sequence: False; hashable: True\n<type 'bool'>: container: False; sequence: False; hashable: True\n<type 'list'>: container: True; sequence: True; hashable: False\n<type 'tuple'>: container: True; sequence: True; hashable: True\n<type 'dict'>: container: True; sequence: True; hashable: False\n<type 'set'>: container: True; sequence: True; hashable: False\n<type 'type'>: container: False; sequence: False; hashable: True\n<type 'module'>: container: False; sequence: False; hashable: True\n<type 'file'>: container: False; sequence: True; hashable: True\n<type 'buffer'>: container: True; sequence: True; hashable: True\n<type 'function'>: container: False; sequence: False; hashable: True\n<type 'type'>: container: False; sequence: False; hashable: True\n<class '__main__.Cnt'>: container: True; sequence: False; hashable: True\n"
     ]
    }
   ],
   "source": [
    "import collections\n",
    "\n",
    "\n",
    "def func():\n",
    "    pass\n",
    "\n",
    "\n",
    "class Cnt(object):\n",
    "    \"\"\"Container but not iterable\"\"\"\n",
    "    def __contains__(self, _):\n",
    "        return True\n",
    "\n",
    "\n",
    "for obj in [1, 1l, 1.0, 1j, 's', None, True, [], (1, 2), {}, {1},\n",
    "            object, collections, file('/bin/ls'), buffer('s'),\n",
    "            func, Cnt, Cnt()]:\n",
    "    isContainer = isinstance(obj, collections.Container)\n",
    "    isIterable = isinstance(obj, collections.Iterable)\n",
    "    isHashable = isinstance(obj, collections.Hashable)\n",
    "    print (\"%s: container: %s; sequence: %s; hashable: %s\" %\n",
    "           (type(obj), isContainer, isIterable, isHashable))"
   ]
  },
  {
   "cell_type": "code",
   "execution_count": null,
   "metadata": {},
   "outputs": [],
   "source": [
    ""
   ]
  }
 ],
 "metadata": {
  "kernelspec": {
   "display_name": "Python 2",
   "language": "python",
   "name": "python2"
  },
  "language_info": {
   "codemirror_mode": {
    "name": "ipython",
    "version": 2.0
   },
   "file_extension": ".py",
   "mimetype": "text/x-python",
   "name": "python",
   "nbconvert_exporter": "python",
   "pygments_lexer": "ipython2",
   "version": "2.7.6"
  }
 },
 "nbformat": 4,
 "nbformat_minor": 0
}