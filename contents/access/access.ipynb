{
 "cells": [
  {
   "cell_type": "markdown",
   "metadata": {},
   "source": [
    "# Access"
   ]
  },
  {
   "cell_type": "code",
   "execution_count": 1,
   "metadata": {
    "collapsed": false
   },
   "outputs": [
    {
     "name": "stdout",
     "output_type": "stream",
     "text": [
      "I am called after object creation to initialize the object\n",
      "I am not really private, but my name suggests it\n",
      "I am only private if you don't know how to guess my name\n"
     ]
    }
   ],
   "source": [
    "class PrivacyDemo(object):\n",
    "    \"\"\"We are all consenting adults ...\"\"\"\n",
    "    def __init__(self):\n",
    "        \"\"\"Special class part of a protocol or language mechanics\"\"\"\n",
    "        print \"I am called after object creation to initialize the object\"\n",
    "\n",
    "    @staticmethod\n",
    "    def _private_by_convention():\n",
    "        \"\"\"can be accessed normally, but underscore hints it as internal\"\"\"\n",
    "        print \"I am not really private, but my name suggests it\"\n",
    "\n",
    "    @staticmethod\n",
    "    def __semi_private_by_name_mangling():\n",
    "        \"\"\"can still be accessed, but under a different name\"\"\"\n",
    "        print \"I am only private if you don't know how to guess my name\"\n",
    "\n",
    "PrivacyDemo()\n",
    "PrivacyDemo._private_by_convention()\n",
    "PrivacyDemo._PrivacyDemo__semi_private_by_name_mangling()\n"
   ]
  }
 ],
 "metadata": {
  "kernelspec": {
   "display_name": "Python 2",
   "language": "python",
   "name": "python2"
  },
  "language_info": {
   "codemirror_mode": {
    "name": "ipython",
    "version": 2
   },
   "file_extension": ".py",
   "mimetype": "text/x-python",
   "name": "python",
   "nbconvert_exporter": "python",
   "pygments_lexer": "ipython2",
   "version": "2.7.6"
  }
 },
 "nbformat": 4,
 "nbformat_minor": 0
}
