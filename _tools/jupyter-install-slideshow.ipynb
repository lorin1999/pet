{
 "cells": [
  {
   "cell_type": "code",
   "execution_count": 1,
   "metadata": {},
   "outputs": [
    {
     "data": {
      "text/plain": [
       "u'/home/obestwalter/.ipython/profile_default'"
      ]
     },
     "execution_count": 1,
     "output_type": "execute_result",
     "metadata": {}
    }
   ],
   "source": [
    "profile_dir = get_ipython().profile_dir.location\n",
    "profile_dir"
   ]
  },
  {
   "cell_type": "code",
   "execution_count": 2,
   "metadata": {},
   "outputs": [
    {
     "name": "stdout",
     "output_type": "stream",
     "text": [
      "Cloning into '/home/obestwalter/.ipython/profile_default/static/custom'...\n",
      "remote: Counting objects: 4919, done.\u001b[K\n",
      "remote: Compressing objects: 100% (56/56), done.\u001b[K\n",
      "remote: Total 4919 (delta 36), reused 0 (delta 0), pack-reused 4863\u001b[K\n",
      "Receiving objects: 100% (4919/4919), 16.85 MiB | 7.70 MiB/s, done.\n",
      "Resolving deltas: 100% (2893/2893), done.\n",
      "Checking connectivity... done.\n"
     ]
    }
   ],
   "source": [
    "import os\n",
    "tgt = os.path.join( profile_dir, 'static', 'custom')\n",
    "!git clone https://github.com/ipython-contrib/IPython-notebook-extensions.git $tgt"
   ]
  },
  {
   "cell_type": "code",
   "execution_count": 3,
   "metadata": {},
   "outputs": [
    {
     "name": "stdout",
     "output_type": "stream",
     "text": [
      "/home/obestwalter/.ipython/profile_default/static/custom\n",
      "COPYING.rst\t\t   extensions  nbextensions\t templates\r\n",
      "README.md\t\t   install.py  requirements.txt  tests\r\n",
      "configure_nbextensions.py  meta.yaml   setup.py\r\n"
     ]
    }
   ],
   "source": [
    "%cd $tgt\n",
    "!ls"
   ]
  },
  {
   "cell_type": "code",
   "execution_count": 4,
   "metadata": {},
   "outputs": [
    {
     "name": "stdout",
     "output_type": "stream",
     "text": [
      "Writing custom.js\n"
     ]
    }
   ],
   "source": [
    "%%writefile custom.js\n",
    "// we want strict javascript that fails\n",
    "// on ambiguous syntax\n",
    "\"using strict\";\n",
    "\n",
    "// do not use notebook loaded  event as it is re-triggerd on\n",
    "// revert to checkpoint but this allow extesnsion to be loaded\n",
    "// late enough to work.\n",
    "//\n",
    "\n",
    "$([IPython.events]).on('app_initialized.NotebookApp', function(){\n",
    "\n",
    "\n",
    "    /**  Use path to js file relative to /static/ dir without leading slash, or\n",
    "     *  js extension.\n",
    "     *  Link directly to file is js extension.\n",
    "     *\n",
    "     *  first argument of require is a **list** that can contains several modules if needed.\n",
    "     **/\n",
    "\n",
    "    // require(['custom/noscroll']);\n",
    "    // require(['custom/clean_start'])\n",
    "    // require(['custom/toggle_all_line_number'])\n",
    "    // require(['custom/gist_it']);\n",
    "\n",
    "    /**\n",
    "     *  Link to entrypoint if extesnsion is a folder.\n",
    "     *  to be consistent with commonjs module, the entrypoint is main.js\n",
    "     *  here youcan also trigger a custom function on load that will do extra\n",
    "     *  action with the module if needed\n",
    "     **/\n",
    "     require(['custom/slidemode/main'],function(slidemode){\n",
    "    //     // do stuff\n",
    "     })\n",
    "\n",
    "});"
   ]
  },
  {
   "cell_type": "code",
   "execution_count": null,
   "metadata": {},
   "outputs": [],
   "source": [
    ""
   ]
  }
 ],
 "metadata": {
  "kernelspec": {
   "display_name": "Python 2",
   "language": "python",
   "name": "python2"
  },
  "language_info": {
   "codemirror_mode": {
    "name": "ipython",
    "version": 2.0
   },
   "file_extension": ".py",
   "mimetype": "text/x-python",
   "name": "python",
   "nbconvert_exporter": "python",
   "pygments_lexer": "ipython2",
   "version": "2.7.6"
  }
 },
 "nbformat": 4,
 "nbformat_minor": 0
}