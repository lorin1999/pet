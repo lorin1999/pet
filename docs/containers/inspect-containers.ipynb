{
 "cells": [
  {
   "cell_type": "code",
   "execution_count": 13,
   "metadata": {
    "collapsed": true
   },
   "outputs": [
    {
     "name": "stdout",
     "output_type": "stream",
     "text": [
      "1 <type 'int'>; container: False; sequence: False; hashable: True\n1 <type 'long'>; container: False; sequence: False; hashable: True\n1.0 <type 'float'>; container: False; sequence: False; hashable: True\n1j <type 'complex'>; container: False; sequence: False; hashable: True\ns <type 'str'>; container: True; sequence: True; hashable: True\nNone <type 'NoneType'>; container: False; sequence: False; hashable: True\nTrue <type 'bool'>; container: False; sequence: False; hashable: True\n[] <type 'list'>; container: True; sequence: True; hashable: False\n(1, 2) <type 'tuple'>; container: True; sequence: True; hashable: True\n{} <type 'dict'>; container: True; sequence: True; hashable: False\nset([1]) <type 'set'>; container: True; sequence: True; hashable: False\n<type 'object'> <type 'type'>; container: False; sequence: False; hashable: True\n<module 'collections' from '/usr/lib/python2.7/collections.pyc'> <type 'module'>; container: False; sequence: False; hashable: True\n<open file '/bin/ls', mode 'r' at 0x7f478005c9c0> <type 'file'>; container: False; sequence: True; hashable: True\ns <type 'buffer'>; container: True; sequence: True; hashable: True\n<function func at 0x7f47800579b0> <type 'function'>; container: False; sequence: False; hashable: True\n<class '__main__.Cnt'> <type 'type'>; container: False; sequence: False; hashable: True\n<__main__.Cnt object at 0x7f4772fdd650> <class '__main__.Cnt'>; container: True; sequence: False; hashable: True\n"
     ]
    }
   ],
   "source": [
    "import collections\n",
    "\n",
    "\n",
    "def func():\n",
    "    pass\n",
    "\n",
    "\n",
    "class Cnt(object):\n",
    "    \"\"\"Container but not iterable\"\"\"\n",
    "    def __contains__(self, _):\n",
    "        return True\n",
    "\n",
    "\n",
    "for obj in [1, 1l, 1.0, 1j, 's', None, True, [], (1, 2), {}, {1},\n",
    "            object, collections, file('/bin/ls'), buffer('s'),\n",
    "            func, Cnt, Cnt()]:\n",
    "    isContainer = isinstance(obj, collections.Container)\n",
    "    isIterable = isinstance(obj, collections.Iterable)\n",
    "    isHashable = isinstance(obj, collections.Hashable)\n",
    "    print (\"%s %s; container: %s; sequence: %s; hashable: %s\" %\n",
    "           (obj, type(obj), isContainer, isIterable, isHashable))"
   ]
  }
 ],
 "metadata": {
  "kernelspec": {
   "display_name": "Python 2",
   "language": "python",
   "name": "python2"
  },
  "language_info": {
   "codemirror_mode": {
    "name": "ipython",
    "version": 2.0
   },
   "file_extension": ".py",
   "mimetype": "text/x-python",
   "name": "python",
   "nbconvert_exporter": "python",
   "pygments_lexer": "ipython2",
   "version": "2.7.6"
  }
 },
 "nbformat": 4,
 "nbformat_minor": 0
}