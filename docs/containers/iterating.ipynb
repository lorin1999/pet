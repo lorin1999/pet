{
 "cells": [
  {
   "cell_type": "code",
   "execution_count": 6,
   "metadata": {},
   "outputs": [
    {
     "name": "stdout",
     "output_type": "stream",
     "text": [
      "1 s [1, 3] 1j\n"
     ]
    }
   ],
   "source": [
    "for element in [1, 's', [1, 3], 1j]:\n",
    "    print element,"
   ]
  },
  {
   "cell_type": "code",
   "execution_count": 5,
   "metadata": {},
   "outputs": [
    {
     "name": "stdout",
     "output_type": "stream",
     "text": [
      "h e l l o   w o r l d\n"
     ]
    }
   ],
   "source": [
    "for letter in \"hello world\":\n",
    "    print letter,"
   ]
  },
  {
   "cell_type": "code",
   "execution_count": 10,
   "metadata": {},
   "outputs": [
    {
     "name": "stdout",
     "output_type": "stream",
     "text": [
      "key2: 2\n",
      "key1: 1\n"
     ]
    }
   ],
   "source": [
    "mydict = {'key1': 1, 'key2': 2}\n",
    "for key in mydict:\n",
    "    print \"%s: %s\" % (key, mydict[key])"
   ]
  },
  {
   "cell_type": "markdown",
   "metadata": {},
   "source": [
    "**NOTE:** `dict.items()` returns a tuple with key and value of the current dictionary element whith each iteration which is then unpacked directly into the two names `key` and `value`."
   ]
  },
  {
   "cell_type": "code",
   "execution_count": 13,
   "metadata": {},
   "outputs": [
    {
     "name": "stdout",
     "output_type": "stream",
     "text": [
      "k2: 2\n",
      "k1: 1\n"
     ]
    }
   ],
   "source": [
    "for key, value in {'k1': 1, 'k2': 2}.items():\n",
    "    print \"%s: %s\" % (key, value)"
   ]
  }
 ],
 "metadata": {
  "kernelspec": {
   "display_name": "Python 2",
   "language": "python",
   "name": "python2"
  },
  "language_info": {
   "codemirror_mode": {
    "name": "ipython",
    "version": 2.0
   },
   "file_extension": ".py",
   "mimetype": "text/x-python",
   "name": "python",
   "nbconvert_exporter": "python",
   "pygments_lexer": "ipython2",
   "version": "2.7.6"
  }
 },
 "nbformat": 4,
 "nbformat_minor": 0
}