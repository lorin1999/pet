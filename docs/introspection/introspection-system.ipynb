{
 "cells": [
  {
   "cell_type": "markdown",
   "metadata": {},
   "source": [
    "# System Introspection"
   ]
  },
  {
   "cell_type": "code",
   "execution_count": 5,
   "metadata": {},
   "outputs": [
    {
     "name": "stdout",
     "output_type": "stream",
     "text": [
      "sys.version_info(major=2, minor=7, micro=6, releaselevel='final', serial=0)\n",
      "little\n",
      "['', '/home/obestwalter/work/presentation_stack/python-course/.direnv/python-2.7.6/lib/python2.7', '/home/obestwalter/work/presentation_stack/python-course/.direnv/python-2.7.6/lib/python2.7/plat-x86_64-linux-gnu', '/home/obestwalter/work/presentation_stack/python-course/.direnv/python-2.7.6/lib/python2.7/lib-tk', '/home/obestwalter/work/presentation_stack/python-course/.direnv/python-2.7.6/lib/python2.7/lib-old', '/home/obestwalter/work/presentation_stack/python-course/.direnv/python-2.7.6/lib/python2.7/lib-dynload', '/usr/lib/python2.7', '/usr/lib/python2.7/plat-x86_64-linux-gnu', '/usr/lib/python2.7/lib-tk', '/home/obestwalter/work/presentation_stack/python-course/.direnv/python-2.7.6/local/lib/python2.7/site-packages', '/home/obestwalter/work/presentation_stack/python-course/.direnv/python-2.7.6/local/lib/python2.7/site-packages/IPython/extensions', '/home/obestwalter/.ipython']\n",
      "/home/obestwalter/work/presentation_stack/python-course/.direnv/python-2.7.6/bin/python\n",
      "/home/obestwalter/work/presentation_stack/python-course/.direnv/python-2.7.6\n",
      "/usr\n",
      "['In', 'Out', '_', '__', '___', '__builtin__', '__builtins__', '__doc__', '__name__', '__package__', '_dh', '_i', '_i1', '_i2', '_i3', '_i4', '_i5', '_ih', '_ii', '_iii', '_oh', '_sh', 'exit', 'get_ipython', 'inspect', 'myfunc', 'quit', 'sys', 'thisModule']\n"
     ]
    }
   ],
   "source": [
    "import sys\n",
    "\n",
    "print sys.version_info\n",
    "print sys.byteorder\n",
    "print sys.path\n",
    "print sys.executable\n",
    "print sys.exec_prefix\n",
    "print sys.real_prefix\n",
    "thisModule = sys.modules[__name__]\n",
    "print dir(thisModule)"
   ]
  },
  {
   "cell_type": "code",
   "execution_count": 1,
   "metadata": {},
   "outputs": [
    {
     "name": "stdout",
     "output_type": "stream",
     "text": [
      "True\nFalse\n"
     ]
    }
   ],
   "source": [
    "import inspect\n",
    "\n",
    "\n",
    "def myfunc():\n",
    "    \"\"\"some docstring\"\"\"\n",
    "    pass\n",
    "\n",
    "print inspect.isfunction(myfunc)\n",
    "print inspect.isclass(myfunc)"
   ]
  },
  {
   "cell_type": "code",
   "execution_count": 5,
   "metadata": {},
   "outputs": [
    {
     "name": "stdout",
     "output_type": "stream",
     "text": [
      "linux-x86_64\n",
      "{'platinclude': '/home/obestwalter/work/presentation_stack/python-course/.direnv/python-2.7.6/local/include/python2.7', 'platstdlib': '/home/obestwalter/work/presentation_stack/python-course/.direnv/python-2.7.6/lib/python2.7', 'platlib': '/home/obestwalter/work/presentation_stack/python-course/.direnv/python-2.7.6/local/lib/python2.7/dist-packages', 'purelib': '/home/obestwalter/work/presentation_stack/python-course/.direnv/python-2.7.6/local/lib/python2.7/dist-packages', 'stdlib': '/home/obestwalter/work/presentation_stack/python-course/.direnv/python-2.7.6/lib/python2.7', 'scripts': '/home/obestwalter/work/presentation_stack/python-course/.direnv/python-2.7.6/local/bin', 'include': '/home/obestwalter/work/presentation_stack/python-course/.direnv/python-2.7.6/local/include/python2.7', 'data': '/home/obestwalter/work/presentation_stack/python-course/.direnv/python-2.7.6/local'}\n",
      "2.7\n"
     ]
    }
   ],
   "source": [
    "import sysconfig\n",
    "\n",
    "print sysconfig.get_platform()\n",
    "print sysconfig.get_paths()\n",
    "print sysconfig.get_python_version()"
   ]
  }
 ],
 "metadata": {
  "kernelspec": {
   "display_name": "Python 2",
   "language": "python",
   "name": "python2"
  },
  "language_info": {
   "codemirror_mode": {
    "name": "ipython",
    "version": 2.0
   },
   "file_extension": ".py",
   "mimetype": "text/x-python",
   "name": "python",
   "nbconvert_exporter": "python",
   "pygments_lexer": "ipython2",
   "version": "2.7.6"
  }
 },
 "nbformat": 4,
 "nbformat_minor": 0
}